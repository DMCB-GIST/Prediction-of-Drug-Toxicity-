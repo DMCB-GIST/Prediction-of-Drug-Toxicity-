{
 "cells": [
  {
   "cell_type": "code",
   "execution_count": 117,
   "id": "0b4697e6",
   "metadata": {},
   "outputs": [],
   "source": [
    "import os\n",
    "import pandas as pd\n",
    "import numpy as np\n",
    "\n",
    "import rdkit\n",
    "from rdkit import Chem\n",
    "from rdkit.Chem import AllChem\n",
    "from rdkit.Avalon import pyAvalonTools\n",
    "\n",
    "# 경로 설정\n",
    "path = os.getcwd()\n",
    "data_path = path + '/data/'\n",
    "if not os.path.exists(data_path): # 디렉토리가 존재하지 않을 시 생성\n",
    "    os.makedirs(data_path)\n",
    "data = pd.read_csv(data_path + 'dataset.csv') # dataset.csv 부분에 new drug data 입력\n",
    "\n",
    "smiles_list = data['SMILES'].values # data에서 smiles 부분만 추출\n",
    "\n",
    "# SMILES 문자열을 Molecule 객체로 변환하고 Avalon fingerprint 생성\n",
    "avalon_fps = []\n",
    "for smiles in smiles_list: # 각각의 smile에 해당하는 avalon_fp 를 얻기 위한 for문\n",
    "    mol = Chem.MolFromSmiles(smiles) # smiles를 molecule로 변환\n",
    "    if mol is not None:\n",
    "        avalon_fp = rdkit.Avalon.pyAvalonTools.GetAvalonFP(mol, nBits=1024) # molecule 을 avalon_fp로 변환\n",
    "        binary_avalon_fp = avalon_fp.ToList() # 0,1 로 구성된 1024bit로 표현\n",
    "        avalon_fps.append(binary_avalon_fp)\n",
    "    else:\n",
    "        print(f\"Failed to generate Avalon fingerprint for SMILES: {smiles}\") # SMILES 정보가 database에 존재하지 않을 시 error\n",
    "avalon_fps = np.array(avalon_fps)\n",
    "\n",
    "# avalon_fp의 각 col name을 Avalon_i 로 표현\n",
    "col_list = [] \n",
    "for i in range(1024):\n",
    "    col_names = f'Avalon_{i}'\n",
    "    col_list.append(col_names)\n",
    "    \n",
    "avalon_bits = pd.DataFrame(avalon_fps)\n",
    "avalon_bits.columns = col_list\n",
    "\n",
    "# 각 데이터의 ID값과 SMILES 추출\n",
    "data_id = data.iloc[:,0:2]\n",
    "\n",
    "# Avalon 저장\n",
    "Avalon_bits = pd.concat([data_id,avalon_bits], axis=1)\n",
    "Avalon_bits.to_csv(data_path + 'Avalon_bits.csv',index=False)"
   ]
  },
  {
   "cell_type": "code",
   "execution_count": null,
   "id": "7dda0c68",
   "metadata": {},
   "outputs": [],
   "source": []
  }
 ],
 "metadata": {
  "kernelspec": {
   "display_name": "Healthcare",
   "language": "python",
   "name": "healthcare"
  },
  "language_info": {
   "codemirror_mode": {
    "name": "ipython",
    "version": 3
   },
   "file_extension": ".py",
   "mimetype": "text/x-python",
   "name": "python",
   "nbconvert_exporter": "python",
   "pygments_lexer": "ipython3",
   "version": "3.8.16"
  }
 },
 "nbformat": 4,
 "nbformat_minor": 5
}
