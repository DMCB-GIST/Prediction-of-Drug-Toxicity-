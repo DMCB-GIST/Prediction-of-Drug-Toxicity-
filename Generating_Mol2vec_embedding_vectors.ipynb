{
 "cells": [
  {
   "cell_type": "code",
   "execution_count": 167,
   "id": "8c86d047",
   "metadata": {},
   "outputs": [
    {
     "name": "stderr",
     "output_type": "stream",
     "text": [
      "/home/psy/anaconda3/envs/Healthcare/lib/python3.8/site-packages/rdkit/Chem/Draw/IPythonConsole.py:261: UserWarning: Truncating the list of molecules to be displayed to 50. Change the maxMols value to display more.\n",
      "  warnings.warn(\n"
     ]
    }
   ],
   "source": [
    "import numpy as np\n",
    "import pandas as pd\n",
    "import sys, os\n",
    "\n",
    "from rdkit import Chem\n",
    "from rdkit.Chem import Draw\n",
    "from rdkit.Chem import PandasTools\n",
    "from rdkit.Chem.Draw import IPythonConsole\n",
    "\n",
    "from models.mol2vec.features import mol2alt_sentence, mol2sentence, MolSentence, DfVec, sentences2vec\n",
    "from models.mol2vec.helpers import depict_identifier, mol_to_svg\n",
    "from gensim.models import word2vec\n",
    "\n",
    "# 경로 설정\n",
    "path = os.getcwd()\n",
    "model_path = path + '/models/'\n",
    "if not os.path.exists(model_path):\n",
    "    os.makedirs(model_path)\n",
    "data_path = path + '/data/'\n",
    "if not os.path.exists(data_path):\n",
    "    os.makedirs(data_path)\n",
    "    \n",
    "# data 불러오기\n",
    "data = pd.read_csv(data_path + 'dataset.csv') \n",
    "mol2vec_df = data.iloc[:,0:2] # ID와 smiles만 추출\n",
    "\n",
    "# SMILES 추출\n",
    "smile_list = data['SMILES'].values\n",
    "\n",
    "# SMILES to molecule  변환 \n",
    "mol = [Chem.MolFromSmiles(x) for x in smile_list]\n",
    "Draw.MolsToGridImage(mol, molsPerRow=5, useSVG=False) # 시각화\n",
    "mol2vec_df['ROMol'] = mol\n",
    "\n",
    "# molecule 별로 sentence 생성\n",
    "mol2vec_df['sentence'] = mol2vec_df.apply(lambda x: MolSentence(mol2alt_sentence(x['ROMol'], 1)), axis=1)\n",
    "\n",
    "# pretrained mol2vec model 불러오기\n",
    "model = word2vec.Word2Vec.load(model_path + 'mol2vec/mol2vec_300dim.pkl')\n",
    "\n",
    "# mol2vec embedding vector 생성\n",
    "mol2vec_df['mol2vec'] = [DfVec(x) for x in sentences2vec(mol2vec_df['sentence'], model, unseen='UNK')]\n",
    "\n",
    "# mol2vec embedding vector 저장\n",
    "mol2vec_emb = np.array([x.vec for x in mol2vec_df['mol2vec']])\n",
    "\n",
    "col_list = [] \n",
    "for i in range(300):\n",
    "    col_names = f'Mol2vec_{i}'\n",
    "    col_list.append(col_names)\n",
    "    \n",
    "Mol2vec = pd.DataFrame(mol2vec_emb)\n",
    "Mol2vec.columns = col_list\n",
    "\n",
    "Mol2vec = pd.concat([mol2vec_df.iloc[:,0:2],Mol2vec], axis=1)\n",
    "Mol2vec.to_csv(data_path+'Mol2vec.csv',index=False)"
   ]
  },
  {
   "cell_type": "code",
   "execution_count": null,
   "id": "a5f8a0dd",
   "metadata": {},
   "outputs": [],
   "source": []
  }
 ],
 "metadata": {
  "kernelspec": {
   "display_name": "Healthcare",
   "language": "python",
   "name": "healthcare"
  },
  "language_info": {
   "codemirror_mode": {
    "name": "ipython",
    "version": 3
   },
   "file_extension": ".py",
   "mimetype": "text/x-python",
   "name": "python",
   "nbconvert_exporter": "python",
   "pygments_lexer": "ipython3",
   "version": "3.8.16"
  }
 },
 "nbformat": 4,
 "nbformat_minor": 5
}
